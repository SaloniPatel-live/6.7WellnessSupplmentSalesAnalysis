{
 "cells": [
  {
   "cell_type": "markdown",
   "id": "79f07b5f-5da9-462c-bced-b13357cf6f19",
   "metadata": {},
   "source": [
    "# Saloni Patel (A6 - v1 Wellness Supplement Sales Analysis)"
   ]
  },
  {
   "cell_type": "markdown",
   "id": "b616d1e6-9a99-4d52-bb92-e849f4d03c96",
   "metadata": {},
   "source": [
    "### Importing Libraries"
   ]
  },
  {
   "cell_type": "code",
   "execution_count": 1,
   "id": "926f70de-7051-4203-8a2d-6d08a81d80cb",
   "metadata": {},
   "outputs": [],
   "source": [
    "# importing libraries\n",
    "\n",
    "import pandas as pd\n",
    "import numpy as np\n",
    "import os"
   ]
  },
  {
   "cell_type": "markdown",
   "id": "e7d532df-daa0-4fa7-846c-6da3a546b255",
   "metadata": {},
   "source": [
    "### Defining the path"
   ]
  },
  {
   "cell_type": "code",
   "execution_count": 5,
   "id": "c103b1c9-dbc8-4f2e-a0ca-7dd27d916a51",
   "metadata": {},
   "outputs": [],
   "source": [
    "# Creating Path for ease of code\n",
    "\n",
    "path = r'C:\\Users\\psalo\\OneDrive\\Study\\CF - DA Immersion\\A6 - Advanced Analytics & Dashboard Design\\A6 - Wellness Supplement Sales Analysis'\n"
   ]
  },
  {
   "cell_type": "markdown",
   "id": "f55eaf74-5088-4f73-ba3b-d3f48121e6f1",
   "metadata": {},
   "source": [
    "### Importing 'Supplement_Sales_Weekly_Expanded' from Data Folder"
   ]
  },
  {
   "cell_type": "code",
   "execution_count": 6,
   "id": "bc6389e9-0c47-49ef-8ce8-376c065c4453",
   "metadata": {},
   "outputs": [
    {
     "name": "stdout",
     "output_type": "stream",
     "text": [
      "Number of rows imported: 4384\n"
     ]
    }
   ],
   "source": [
    "# Importing Supplement_Sales_Weekly_Expanded from Data folder\n",
    "\n",
    "file_path = os.path.join(path, 'Data', 'Supplement_Sales_Weekly_Expanded.csv')\n",
    "wellsupp_data = pd.read_csv(file_path)\n",
    "\n",
    "print(f\"Number of rows imported: {wellsupp_data.shape[0]}\")"
   ]
  },
  {
   "cell_type": "markdown",
   "id": "3c76b445-ca05-40e1-bcdc-1bcc7b39db4a",
   "metadata": {},
   "source": [
    "### Checking the imported data shape"
   ]
  },
  {
   "cell_type": "code",
   "execution_count": 7,
   "id": "e7fc687d-6710-4243-ae78-f3d3f38b427e",
   "metadata": {},
   "outputs": [
    {
     "data": {
      "text/plain": [
       "(4384, 10)"
      ]
     },
     "execution_count": 7,
     "metadata": {},
     "output_type": "execute_result"
    }
   ],
   "source": [
    "# Checking the wellsupp_data shape\n",
    "\n",
    "wellsupp_data.shape"
   ]
  },
  {
   "cell_type": "markdown",
   "id": "c3eafcbc-7be9-402f-9604-41c3cdff62d0",
   "metadata": {},
   "source": [
    "### Checking the imported data types"
   ]
  },
  {
   "cell_type": "code",
   "execution_count": 8,
   "id": "a5b4a373-189d-486f-a3c3-d1c86c718674",
   "metadata": {},
   "outputs": [
    {
     "data": {
      "text/plain": [
       "Date               object\n",
       "Product Name       object\n",
       "Category           object\n",
       "Units Sold          int64\n",
       "Price             float64\n",
       "Revenue           float64\n",
       "Discount          float64\n",
       "Units Returned      int64\n",
       "Location           object\n",
       "Platform           object\n",
       "dtype: object"
      ]
     },
     "execution_count": 8,
     "metadata": {},
     "output_type": "execute_result"
    }
   ],
   "source": [
    "# Checking the wellsupp_data Types\n",
    "\n",
    "wellsupp_data.dtypes"
   ]
  },
  {
   "cell_type": "markdown",
   "id": "98ba2b07-c133-4bd4-838e-1b62ba21b9ff",
   "metadata": {},
   "source": [
    "### Checking the imported data head"
   ]
  },
  {
   "cell_type": "code",
   "execution_count": 9,
   "id": "da3ada19-3c0b-4d35-9ef9-803cda5ca5aa",
   "metadata": {},
   "outputs": [
    {
     "data": {
      "text/html": [
       "<div>\n",
       "<style scoped>\n",
       "    .dataframe tbody tr th:only-of-type {\n",
       "        vertical-align: middle;\n",
       "    }\n",
       "\n",
       "    .dataframe tbody tr th {\n",
       "        vertical-align: top;\n",
       "    }\n",
       "\n",
       "    .dataframe thead th {\n",
       "        text-align: right;\n",
       "    }\n",
       "</style>\n",
       "<table border=\"1\" class=\"dataframe\">\n",
       "  <thead>\n",
       "    <tr style=\"text-align: right;\">\n",
       "      <th></th>\n",
       "      <th>Date</th>\n",
       "      <th>Product Name</th>\n",
       "      <th>Category</th>\n",
       "      <th>Units Sold</th>\n",
       "      <th>Price</th>\n",
       "      <th>Revenue</th>\n",
       "      <th>Discount</th>\n",
       "      <th>Units Returned</th>\n",
       "      <th>Location</th>\n",
       "      <th>Platform</th>\n",
       "    </tr>\n",
       "  </thead>\n",
       "  <tbody>\n",
       "    <tr>\n",
       "      <th>0</th>\n",
       "      <td>2020-01-06</td>\n",
       "      <td>Whey Protein</td>\n",
       "      <td>Protein</td>\n",
       "      <td>143</td>\n",
       "      <td>31.98</td>\n",
       "      <td>4573.14</td>\n",
       "      <td>0.03</td>\n",
       "      <td>2</td>\n",
       "      <td>Canada</td>\n",
       "      <td>Walmart</td>\n",
       "    </tr>\n",
       "    <tr>\n",
       "      <th>1</th>\n",
       "      <td>2020-01-06</td>\n",
       "      <td>Vitamin C</td>\n",
       "      <td>Vitamin</td>\n",
       "      <td>139</td>\n",
       "      <td>42.51</td>\n",
       "      <td>5908.89</td>\n",
       "      <td>0.04</td>\n",
       "      <td>0</td>\n",
       "      <td>UK</td>\n",
       "      <td>Amazon</td>\n",
       "    </tr>\n",
       "    <tr>\n",
       "      <th>2</th>\n",
       "      <td>2020-01-06</td>\n",
       "      <td>Fish Oil</td>\n",
       "      <td>Omega</td>\n",
       "      <td>161</td>\n",
       "      <td>12.91</td>\n",
       "      <td>2078.51</td>\n",
       "      <td>0.25</td>\n",
       "      <td>0</td>\n",
       "      <td>Canada</td>\n",
       "      <td>Amazon</td>\n",
       "    </tr>\n",
       "    <tr>\n",
       "      <th>3</th>\n",
       "      <td>2020-01-06</td>\n",
       "      <td>Multivitamin</td>\n",
       "      <td>Vitamin</td>\n",
       "      <td>140</td>\n",
       "      <td>16.07</td>\n",
       "      <td>2249.80</td>\n",
       "      <td>0.08</td>\n",
       "      <td>0</td>\n",
       "      <td>Canada</td>\n",
       "      <td>Walmart</td>\n",
       "    </tr>\n",
       "    <tr>\n",
       "      <th>4</th>\n",
       "      <td>2020-01-06</td>\n",
       "      <td>Pre-Workout</td>\n",
       "      <td>Performance</td>\n",
       "      <td>157</td>\n",
       "      <td>35.47</td>\n",
       "      <td>5568.79</td>\n",
       "      <td>0.25</td>\n",
       "      <td>3</td>\n",
       "      <td>Canada</td>\n",
       "      <td>iHerb</td>\n",
       "    </tr>\n",
       "  </tbody>\n",
       "</table>\n",
       "</div>"
      ],
      "text/plain": [
       "         Date  Product Name     Category  Units Sold  Price  Revenue  \\\n",
       "0  2020-01-06  Whey Protein      Protein         143  31.98  4573.14   \n",
       "1  2020-01-06     Vitamin C      Vitamin         139  42.51  5908.89   \n",
       "2  2020-01-06      Fish Oil        Omega         161  12.91  2078.51   \n",
       "3  2020-01-06  Multivitamin      Vitamin         140  16.07  2249.80   \n",
       "4  2020-01-06   Pre-Workout  Performance         157  35.47  5568.79   \n",
       "\n",
       "   Discount  Units Returned Location Platform  \n",
       "0      0.03               2   Canada  Walmart  \n",
       "1      0.04               0       UK   Amazon  \n",
       "2      0.25               0   Canada   Amazon  \n",
       "3      0.08               0   Canada  Walmart  \n",
       "4      0.25               3   Canada    iHerb  "
      ]
     },
     "execution_count": 9,
     "metadata": {},
     "output_type": "execute_result"
    }
   ],
   "source": [
    "# Checking the wellsupp_data Head\n",
    "\n",
    "wellsupp_data.head(5)"
   ]
  },
  {
   "cell_type": "markdown",
   "id": "876498e8-55f5-4546-9e45-2a0dde6a204d",
   "metadata": {},
   "source": [
    "### Checking the imported data description"
   ]
  },
  {
   "cell_type": "code",
   "execution_count": 10,
   "id": "fa8c738c-442e-419e-8ff0-bf95c8e3124a",
   "metadata": {},
   "outputs": [
    {
     "data": {
      "text/html": [
       "<div>\n",
       "<style scoped>\n",
       "    .dataframe tbody tr th:only-of-type {\n",
       "        vertical-align: middle;\n",
       "    }\n",
       "\n",
       "    .dataframe tbody tr th {\n",
       "        vertical-align: top;\n",
       "    }\n",
       "\n",
       "    .dataframe thead th {\n",
       "        text-align: right;\n",
       "    }\n",
       "</style>\n",
       "<table border=\"1\" class=\"dataframe\">\n",
       "  <thead>\n",
       "    <tr style=\"text-align: right;\">\n",
       "      <th></th>\n",
       "      <th>Units Sold</th>\n",
       "      <th>Price</th>\n",
       "      <th>Revenue</th>\n",
       "      <th>Discount</th>\n",
       "      <th>Units Returned</th>\n",
       "    </tr>\n",
       "  </thead>\n",
       "  <tbody>\n",
       "    <tr>\n",
       "      <th>count</th>\n",
       "      <td>4384.000000</td>\n",
       "      <td>4384.000000</td>\n",
       "      <td>4384.000000</td>\n",
       "      <td>4384.000000</td>\n",
       "      <td>4384.000000</td>\n",
       "    </tr>\n",
       "    <tr>\n",
       "      <th>mean</th>\n",
       "      <td>150.200274</td>\n",
       "      <td>34.781229</td>\n",
       "      <td>5226.569446</td>\n",
       "      <td>0.124398</td>\n",
       "      <td>1.531478</td>\n",
       "    </tr>\n",
       "    <tr>\n",
       "      <th>std</th>\n",
       "      <td>12.396099</td>\n",
       "      <td>14.198309</td>\n",
       "      <td>2192.491946</td>\n",
       "      <td>0.071792</td>\n",
       "      <td>1.258479</td>\n",
       "    </tr>\n",
       "    <tr>\n",
       "      <th>min</th>\n",
       "      <td>103.000000</td>\n",
       "      <td>10.000000</td>\n",
       "      <td>1284.000000</td>\n",
       "      <td>0.000000</td>\n",
       "      <td>0.000000</td>\n",
       "    </tr>\n",
       "    <tr>\n",
       "      <th>25%</th>\n",
       "      <td>142.000000</td>\n",
       "      <td>22.597500</td>\n",
       "      <td>3349.372500</td>\n",
       "      <td>0.060000</td>\n",
       "      <td>1.000000</td>\n",
       "    </tr>\n",
       "    <tr>\n",
       "      <th>50%</th>\n",
       "      <td>150.000000</td>\n",
       "      <td>34.720000</td>\n",
       "      <td>5173.140000</td>\n",
       "      <td>0.120000</td>\n",
       "      <td>1.000000</td>\n",
       "    </tr>\n",
       "    <tr>\n",
       "      <th>75%</th>\n",
       "      <td>158.000000</td>\n",
       "      <td>46.712500</td>\n",
       "      <td>7009.960000</td>\n",
       "      <td>0.190000</td>\n",
       "      <td>2.000000</td>\n",
       "    </tr>\n",
       "    <tr>\n",
       "      <th>max</th>\n",
       "      <td>194.000000</td>\n",
       "      <td>59.970000</td>\n",
       "      <td>10761.850000</td>\n",
       "      <td>0.250000</td>\n",
       "      <td>8.000000</td>\n",
       "    </tr>\n",
       "  </tbody>\n",
       "</table>\n",
       "</div>"
      ],
      "text/plain": [
       "        Units Sold        Price       Revenue     Discount  Units Returned\n",
       "count  4384.000000  4384.000000   4384.000000  4384.000000     4384.000000\n",
       "mean    150.200274    34.781229   5226.569446     0.124398        1.531478\n",
       "std      12.396099    14.198309   2192.491946     0.071792        1.258479\n",
       "min     103.000000    10.000000   1284.000000     0.000000        0.000000\n",
       "25%     142.000000    22.597500   3349.372500     0.060000        1.000000\n",
       "50%     150.000000    34.720000   5173.140000     0.120000        1.000000\n",
       "75%     158.000000    46.712500   7009.960000     0.190000        2.000000\n",
       "max     194.000000    59.970000  10761.850000     0.250000        8.000000"
      ]
     },
     "execution_count": 10,
     "metadata": {},
     "output_type": "execute_result"
    }
   ],
   "source": [
    "wellsupp_data.describe()"
   ]
  },
  {
   "cell_type": "markdown",
   "id": "6d3032ce-7e50-4c27-b25d-a4f12e549147",
   "metadata": {},
   "source": [
    "### Checking for missing values"
   ]
  },
  {
   "cell_type": "code",
   "execution_count": 11,
   "id": "b1c8d801-202e-4b5a-8a68-47772537d7ac",
   "metadata": {},
   "outputs": [
    {
     "data": {
      "text/plain": [
       "Date              0\n",
       "Product Name      0\n",
       "Category          0\n",
       "Units Sold        0\n",
       "Price             0\n",
       "Revenue           0\n",
       "Discount          0\n",
       "Units Returned    0\n",
       "Location          0\n",
       "Platform          0\n",
       "dtype: int64"
      ]
     },
     "execution_count": 11,
     "metadata": {},
     "output_type": "execute_result"
    }
   ],
   "source": [
    "wellsupp_data.isnull().sum()"
   ]
  },
  {
   "cell_type": "markdown",
   "id": "efbb0dae-1d1e-44f0-8f35-cc04fd418f62",
   "metadata": {},
   "source": [
    "### Checking for duplicate values"
   ]
  },
  {
   "cell_type": "code",
   "execution_count": 12,
   "id": "a7571da6-0439-425e-aa80-80596f279640",
   "metadata": {},
   "outputs": [
    {
     "name": "stdout",
     "output_type": "stream",
     "text": [
      "0\n"
     ]
    }
   ],
   "source": [
    "duplicates = wellsupp_data.duplicated()\n",
    "print(duplicates.sum())"
   ]
  },
  {
   "cell_type": "markdown",
   "id": "17dce2c0-7f59-4d2a-9ec5-496e31665349",
   "metadata": {},
   "source": [
    "### Checking info for the imported data"
   ]
  },
  {
   "cell_type": "code",
   "execution_count": 16,
   "id": "ddf5285e-524a-416f-bf85-c4d44152aa46",
   "metadata": {},
   "outputs": [
    {
     "data": {
      "text/plain": [
       "<bound method DataFrame.info of             Date        Product Name     Category  Units Sold  Price  Revenue  \\\n",
       "0     2020-01-06        Whey Protein      Protein         143  31.98  4573.14   \n",
       "1     2020-01-06           Vitamin C      Vitamin         139  42.51  5908.89   \n",
       "2     2020-01-06            Fish Oil        Omega         161  12.91  2078.51   \n",
       "3     2020-01-06        Multivitamin      Vitamin         140  16.07  2249.80   \n",
       "4     2020-01-06         Pre-Workout  Performance         157  35.47  5568.79   \n",
       "...          ...                 ...          ...         ...    ...      ...   \n",
       "4379  2025-03-31           Melatonin    Sleep Aid         160  47.79  7646.40   \n",
       "4380  2025-03-31              Biotin      Vitamin         154  38.12  5870.48   \n",
       "4381  2025-03-31   Green Tea Extract   Fat Burner         139  20.40  2835.60   \n",
       "4382  2025-03-31     Iron Supplement      Mineral         154  18.31  2819.74   \n",
       "4383  2025-03-31  Electrolyte Powder    Hydration         178  39.12  6963.36   \n",
       "\n",
       "      Discount  Units Returned Location Platform  \n",
       "0         0.03               2   Canada  Walmart  \n",
       "1         0.04               0       UK   Amazon  \n",
       "2         0.25               0   Canada   Amazon  \n",
       "3         0.08               0   Canada  Walmart  \n",
       "4         0.25               3   Canada    iHerb  \n",
       "...        ...             ...      ...      ...  \n",
       "4379      0.21               1      USA    iHerb  \n",
       "4380      0.22               1       UK  Walmart  \n",
       "4381      0.12               3      USA    iHerb  \n",
       "4382      0.23               2   Canada   Amazon  \n",
       "4383      0.23               0       UK    iHerb  \n",
       "\n",
       "[4384 rows x 10 columns]>"
      ]
     },
     "execution_count": 16,
     "metadata": {},
     "output_type": "execute_result"
    }
   ],
   "source": [
    "wellsupp_data.info"
   ]
  },
  {
   "cell_type": "code",
   "execution_count": null,
   "id": "1e5140cf-c6d6-4b35-86ee-45adf27bf0cf",
   "metadata": {},
   "outputs": [],
   "source": []
  }
 ],
 "metadata": {
  "kernelspec": {
   "display_name": "Python [conda env:base] *",
   "language": "python",
   "name": "conda-base-py"
  },
  "language_info": {
   "codemirror_mode": {
    "name": "ipython",
    "version": 3
   },
   "file_extension": ".py",
   "mimetype": "text/x-python",
   "name": "python",
   "nbconvert_exporter": "python",
   "pygments_lexer": "ipython3",
   "version": "3.13.5"
  }
 },
 "nbformat": 4,
 "nbformat_minor": 5
}
